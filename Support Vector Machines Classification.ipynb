{
 "cells": [
  {
   "cell_type": "code",
   "execution_count": 3,
   "id": "de188018",
   "metadata": {},
   "outputs": [],
   "source": [
    "import pandas as pd\n",
    "import numpy as np\n",
    "import seaborn as sns\n",
    "\n",
    "from sklearn.preprocessing import MinMaxScaler\n",
    "from sklearn.model_selection import train_test_split\n",
    "from sklearn.preprocessing import LabelEncoder, OrdinalEncoder\n",
    "from sklearn import svm, datasets\n",
    "from sklearn.metrics import confusion_matrix, accuracy_score, precision_score, recall_score, \\\n",
    "f1_score, classification_report, ConfusionMatrixDisplay\n",
    "import matplotlib.pyplot as plt\n",
    "from sklearn.model_selection import GridSearchCV"
   ]
  },
  {
   "cell_type": "code",
   "execution_count": 4,
   "id": "38716a71",
   "metadata": {},
   "outputs": [
    {
     "data": {
      "text/html": [
       "<div>\n",
       "<style scoped>\n",
       "    .dataframe tbody tr th:only-of-type {\n",
       "        vertical-align: middle;\n",
       "    }\n",
       "\n",
       "    .dataframe tbody tr th {\n",
       "        vertical-align: top;\n",
       "    }\n",
       "\n",
       "    .dataframe thead th {\n",
       "        text-align: right;\n",
       "    }\n",
       "</style>\n",
       "<table border=\"1\" class=\"dataframe\">\n",
       "  <thead>\n",
       "    <tr style=\"text-align: right;\">\n",
       "      <th></th>\n",
       "      <th>poisonous</th>\n",
       "      <th>cap-shape</th>\n",
       "      <th>cap-surface</th>\n",
       "      <th>cap-color</th>\n",
       "      <th>bruises</th>\n",
       "      <th>odor</th>\n",
       "      <th>gill-attachment</th>\n",
       "      <th>gill-spacing</th>\n",
       "      <th>gill-size</th>\n",
       "      <th>gill-color</th>\n",
       "      <th>...</th>\n",
       "      <th>stalk-surface-below-ring</th>\n",
       "      <th>stalk-color-above-ring</th>\n",
       "      <th>stalk-color-below-ring</th>\n",
       "      <th>veil-type</th>\n",
       "      <th>veil-color</th>\n",
       "      <th>ring-number</th>\n",
       "      <th>ring-type</th>\n",
       "      <th>spore-print-color</th>\n",
       "      <th>population</th>\n",
       "      <th>habitat</th>\n",
       "    </tr>\n",
       "  </thead>\n",
       "  <tbody>\n",
       "    <tr>\n",
       "      <th>0</th>\n",
       "      <td>p</td>\n",
       "      <td>x</td>\n",
       "      <td>s</td>\n",
       "      <td>n</td>\n",
       "      <td>t</td>\n",
       "      <td>p</td>\n",
       "      <td>f</td>\n",
       "      <td>c</td>\n",
       "      <td>n</td>\n",
       "      <td>k</td>\n",
       "      <td>...</td>\n",
       "      <td>s</td>\n",
       "      <td>w</td>\n",
       "      <td>w</td>\n",
       "      <td>p</td>\n",
       "      <td>w</td>\n",
       "      <td>o</td>\n",
       "      <td>p</td>\n",
       "      <td>k</td>\n",
       "      <td>s</td>\n",
       "      <td>u</td>\n",
       "    </tr>\n",
       "    <tr>\n",
       "      <th>1</th>\n",
       "      <td>e</td>\n",
       "      <td>x</td>\n",
       "      <td>s</td>\n",
       "      <td>y</td>\n",
       "      <td>t</td>\n",
       "      <td>a</td>\n",
       "      <td>f</td>\n",
       "      <td>c</td>\n",
       "      <td>b</td>\n",
       "      <td>k</td>\n",
       "      <td>...</td>\n",
       "      <td>s</td>\n",
       "      <td>w</td>\n",
       "      <td>w</td>\n",
       "      <td>p</td>\n",
       "      <td>w</td>\n",
       "      <td>o</td>\n",
       "      <td>p</td>\n",
       "      <td>n</td>\n",
       "      <td>n</td>\n",
       "      <td>g</td>\n",
       "    </tr>\n",
       "    <tr>\n",
       "      <th>2</th>\n",
       "      <td>e</td>\n",
       "      <td>b</td>\n",
       "      <td>s</td>\n",
       "      <td>w</td>\n",
       "      <td>t</td>\n",
       "      <td>l</td>\n",
       "      <td>f</td>\n",
       "      <td>c</td>\n",
       "      <td>b</td>\n",
       "      <td>n</td>\n",
       "      <td>...</td>\n",
       "      <td>s</td>\n",
       "      <td>w</td>\n",
       "      <td>w</td>\n",
       "      <td>p</td>\n",
       "      <td>w</td>\n",
       "      <td>o</td>\n",
       "      <td>p</td>\n",
       "      <td>n</td>\n",
       "      <td>n</td>\n",
       "      <td>m</td>\n",
       "    </tr>\n",
       "    <tr>\n",
       "      <th>3</th>\n",
       "      <td>p</td>\n",
       "      <td>x</td>\n",
       "      <td>y</td>\n",
       "      <td>w</td>\n",
       "      <td>t</td>\n",
       "      <td>p</td>\n",
       "      <td>f</td>\n",
       "      <td>c</td>\n",
       "      <td>n</td>\n",
       "      <td>n</td>\n",
       "      <td>...</td>\n",
       "      <td>s</td>\n",
       "      <td>w</td>\n",
       "      <td>w</td>\n",
       "      <td>p</td>\n",
       "      <td>w</td>\n",
       "      <td>o</td>\n",
       "      <td>p</td>\n",
       "      <td>k</td>\n",
       "      <td>s</td>\n",
       "      <td>u</td>\n",
       "    </tr>\n",
       "    <tr>\n",
       "      <th>4</th>\n",
       "      <td>e</td>\n",
       "      <td>x</td>\n",
       "      <td>s</td>\n",
       "      <td>g</td>\n",
       "      <td>f</td>\n",
       "      <td>n</td>\n",
       "      <td>f</td>\n",
       "      <td>w</td>\n",
       "      <td>b</td>\n",
       "      <td>k</td>\n",
       "      <td>...</td>\n",
       "      <td>s</td>\n",
       "      <td>w</td>\n",
       "      <td>w</td>\n",
       "      <td>p</td>\n",
       "      <td>w</td>\n",
       "      <td>o</td>\n",
       "      <td>e</td>\n",
       "      <td>n</td>\n",
       "      <td>a</td>\n",
       "      <td>g</td>\n",
       "    </tr>\n",
       "  </tbody>\n",
       "</table>\n",
       "<p>5 rows × 22 columns</p>\n",
       "</div>"
      ],
      "text/plain": [
       "  poisonous cap-shape cap-surface cap-color bruises odor gill-attachment  \\\n",
       "0         p         x           s         n       t    p               f   \n",
       "1         e         x           s         y       t    a               f   \n",
       "2         e         b           s         w       t    l               f   \n",
       "3         p         x           y         w       t    p               f   \n",
       "4         e         x           s         g       f    n               f   \n",
       "\n",
       "  gill-spacing gill-size gill-color  ... stalk-surface-below-ring  \\\n",
       "0            c         n          k  ...                        s   \n",
       "1            c         b          k  ...                        s   \n",
       "2            c         b          n  ...                        s   \n",
       "3            c         n          n  ...                        s   \n",
       "4            w         b          k  ...                        s   \n",
       "\n",
       "  stalk-color-above-ring stalk-color-below-ring veil-type veil-color  \\\n",
       "0                      w                      w         p          w   \n",
       "1                      w                      w         p          w   \n",
       "2                      w                      w         p          w   \n",
       "3                      w                      w         p          w   \n",
       "4                      w                      w         p          w   \n",
       "\n",
       "  ring-number ring-type spore-print-color population habitat  \n",
       "0           o         p                 k          s       u  \n",
       "1           o         p                 n          n       g  \n",
       "2           o         p                 n          n       m  \n",
       "3           o         p                 k          s       u  \n",
       "4           o         e                 n          a       g  \n",
       "\n",
       "[5 rows x 22 columns]"
      ]
     },
     "execution_count": 4,
     "metadata": {},
     "output_type": "execute_result"
    }
   ],
   "source": [
    "mushroom_data=pd.read_csv('mushrooms-full-dataset.csv',dtype=str)\n",
    "mushroom_data.head()"
   ]
  },
  {
   "cell_type": "code",
   "execution_count": 5,
   "id": "fd3ab6ea",
   "metadata": {},
   "outputs": [
    {
     "data": {
      "text/plain": [
       "e    4208\n",
       "p    3916\n",
       "Name: poisonous, dtype: int64"
      ]
     },
     "execution_count": 5,
     "metadata": {},
     "output_type": "execute_result"
    }
   ],
   "source": [
    "mushroom_data['poisonous'].value_counts()"
   ]
  },
  {
   "cell_type": "code",
   "execution_count": 6,
   "id": "105f5b16",
   "metadata": {},
   "outputs": [
    {
     "data": {
      "text/plain": [
       "poisonous                   0\n",
       "cap-shape                   0\n",
       "cap-surface                 0\n",
       "cap-color                   0\n",
       "bruises                     0\n",
       "odor                        0\n",
       "gill-attachment             0\n",
       "gill-spacing                0\n",
       "gill-size                   0\n",
       "gill-color                  0\n",
       "stalk-shape                 0\n",
       "stalk-surface-above-ring    0\n",
       "stalk-surface-below-ring    0\n",
       "stalk-color-above-ring      0\n",
       "stalk-color-below-ring      0\n",
       "veil-type                   0\n",
       "veil-color                  0\n",
       "ring-number                 0\n",
       "ring-type                   0\n",
       "spore-print-color           0\n",
       "population                  0\n",
       "habitat                     0\n",
       "dtype: int64"
      ]
     },
     "execution_count": 6,
     "metadata": {},
     "output_type": "execute_result"
    }
   ],
   "source": [
    "mushroom_data.isnull().sum()"
   ]
  },
  {
   "cell_type": "markdown",
   "id": "4941b228",
   "metadata": {},
   "source": [
    "# Preprocessing"
   ]
  },
  {
   "cell_type": "code",
   "execution_count": 7,
   "id": "77fd756c",
   "metadata": {},
   "outputs": [],
   "source": [
    "target = mushroom_data['poisonous']\n",
    "inputs = mushroom_data.drop(['poisonous'], axis=1)"
   ]
  },
  {
   "cell_type": "code",
   "execution_count": 8,
   "id": "7949d1e9",
   "metadata": {},
   "outputs": [],
   "source": [
    "x_train, x_test, y_train, y_test= train_test_split(inputs, \n",
    "                                                   target, \n",
    "                                                   test_size=0.2,\n",
    "                                                   stratify=target)"
   ]
  },
  {
   "cell_type": "code",
   "execution_count": 9,
   "id": "7c12845c",
   "metadata": {},
   "outputs": [
    {
     "data": {
      "text/plain": [
       "e    3366\n",
       "p    3133\n",
       "Name: poisonous, dtype: int64"
      ]
     },
     "execution_count": 9,
     "metadata": {},
     "output_type": "execute_result"
    }
   ],
   "source": [
    "y_train.value_counts()"
   ]
  },
  {
   "cell_type": "code",
   "execution_count": 10,
   "id": "67aa753e",
   "metadata": {},
   "outputs": [
    {
     "data": {
      "text/plain": [
       "e    842\n",
       "p    783\n",
       "Name: poisonous, dtype: int64"
      ]
     },
     "execution_count": 10,
     "metadata": {},
     "output_type": "execute_result"
    }
   ],
   "source": [
    "y_test.value_counts()"
   ]
  },
  {
   "cell_type": "code",
   "execution_count": 13,
   "id": "bc89f1d5",
   "metadata": {},
   "outputs": [],
   "source": [
    "enc_i=OrdinalEncoder()\n",
    "enc_t=LabelEncoder()"
   ]
  },
  {
   "cell_type": "code",
   "execution_count": 14,
   "id": "53b25796",
   "metadata": {},
   "outputs": [],
   "source": [
    "x_train_transf=enc_i.fit_transform(x_train)\n",
    "x_test_transf=enc_i.fit_transform(x_test)\n",
    "\n",
    "y_train_transf=enc_t.fit_transform(y_train)\n",
    "y_test_transf=enc_t.fit_transform(y_test)"
   ]
  },
  {
   "cell_type": "code",
   "execution_count": 17,
   "id": "b5ffd87c",
   "metadata": {},
   "outputs": [
    {
     "data": {
      "text/plain": [
       "array([0, 1, 1, ..., 1, 1, 0])"
      ]
     },
     "execution_count": 17,
     "metadata": {},
     "output_type": "execute_result"
    }
   ],
   "source": [
    "y_train_transf"
   ]
  },
  {
   "cell_type": "code",
   "execution_count": 18,
   "id": "2c0898e2",
   "metadata": {},
   "outputs": [
    {
     "data": {
      "text/plain": [
       "array([[5., 0., 4., ..., 2., 3., 1.],\n",
       "       [2., 0., 9., ..., 1., 4., 1.],\n",
       "       [3., 2., 2., ..., 7., 4., 4.],\n",
       "       ...,\n",
       "       [3., 2., 2., ..., 7., 4., 2.],\n",
       "       [5., 3., 2., ..., 7., 4., 0.],\n",
       "       [0., 2., 4., ..., 8., 4., 2.]])"
      ]
     },
     "execution_count": 18,
     "metadata": {},
     "output_type": "execute_result"
    }
   ],
   "source": [
    "x_train_transf"
   ]
  },
  {
   "cell_type": "code",
   "execution_count": 19,
   "id": "f969a899",
   "metadata": {},
   "outputs": [],
   "source": [
    "scaling=MinMaxScaler(feature_range = (-1,1)).fit(x_train_transf)\n",
    "x_train_rescaled = scaling.transform(x_train_transf)"
   ]
  },
  {
   "cell_type": "markdown",
   "id": "55804673",
   "metadata": {},
   "source": [
    "# Classification"
   ]
  },
  {
   "cell_type": "code",
   "execution_count": 20,
   "id": "8f68b07b",
   "metadata": {},
   "outputs": [],
   "source": [
    "C = 1.0\n",
    "svc= svm.SVC(kernel='linear', C=C).fit(x_train_rescaled,y_train_transf)"
   ]
  },
  {
   "cell_type": "code",
   "execution_count": 21,
   "id": "41559a83",
   "metadata": {},
   "outputs": [],
   "source": [
    "y_pred_test = svc.predict(scaling.transform(x_test_transf))"
   ]
  },
  {
   "cell_type": "markdown",
   "id": "0381f425",
   "metadata": {},
   "source": [
    "# Model Evaluation"
   ]
  },
  {
   "cell_type": "code",
   "execution_count": 25,
   "id": "ce15801d",
   "metadata": {},
   "outputs": [
    {
     "data": {
      "text/plain": [
       "<sklearn.metrics._plot.confusion_matrix.ConfusionMatrixDisplay at 0x1487babafa0>"
      ]
     },
     "execution_count": 25,
     "metadata": {},
     "output_type": "execute_result"
    },
    {
     "data": {
      "image/png": "[encoded data removed]",
      "text/plain": [
       "<Figure size 432x288 with 2 Axes>"
      ]
     },
     "metadata": {
      "needs_background": "light"
     },
     "output_type": "display_data"
    }
   ],
   "source": [
    "#fig, ax=plt.subplots(figsize=(0,5))\n",
    "\n",
    "cmp = ConfusionMatrixDisplay(\n",
    "    confusion_matrix(y_test_transf,y_pred_test),\n",
    "    display_labels=['Edible', 'Poisonous'],\n",
    ")\n",
    "\n",
    "cmp.plot()"
   ]
  },
  {
   "cell_type": "code",
   "execution_count": 26,
   "id": "d6d63658",
   "metadata": {},
   "outputs": [
    {
     "name": "stdout",
     "output_type": "stream",
     "text": [
      "              precision    recall  f1-score   support\n",
      "\n",
      "      Edible       0.96      0.97      0.96       842\n",
      "   Poisonous       0.96      0.96      0.96       783\n",
      "\n",
      "    accuracy                           0.96      1625\n",
      "   macro avg       0.96      0.96      0.96      1625\n",
      "weighted avg       0.96      0.96      0.96      1625\n",
      "\n"
     ]
    }
   ],
   "source": [
    "print(classification_report(y_test_transf,y_pred_test, target_names=['Edible', 'Poisonous']))"
   ]
  },
  {
   "cell_type": "markdown",
   "id": "914aa9a5",
   "metadata": {},
   "source": [
    "# Hyperparameter Tuning with GridSearchCV"
   ]
  },
  {
   "cell_type": "markdown",
   "id": "227ef1ac",
   "metadata": {},
   "source": [
    "## Choose the best kernel and optimal C parameter based on Cross Validation of the training data"
   ]
  },
  {
   "cell_type": "code",
   "execution_count": 27,
   "id": "898c5aef",
   "metadata": {},
   "outputs": [],
   "source": [
    "tuned_parameters=[\n",
    "    {'kernel':['linear'], 'C':[1,10]},\n",
    "    {'kernel':['poly'], 'C':[1,10]},\n",
    "    {'kernel':['rbf'], 'gamma':[1e-3,1e-4], 'C':[1,10]},\n",
    "\n",
    "]"
   ]
  },
  {
   "cell_type": "code",
   "execution_count": 28,
   "id": "cd2e2b3b",
   "metadata": {},
   "outputs": [],
   "source": [
    "scores = ['precision','recall']"
   ]
  },
  {
   "cell_type": "code",
   "execution_count": 31,
   "id": "f21264e3",
   "metadata": {},
   "outputs": [
    {
     "name": "stdout",
     "output_type": "stream",
     "text": [
      "# Tuning hyper-parameters for precision\n",
      "\n",
      "Best parameters set found on development set:\n",
      "\n",
      "{'C': 1, 'kernel': 'poly'}\n",
      "\n",
      "Grid scores on development set: \n",
      "\n",
      "0.950 (+/-0.016) for {'C': 1, 'kernel': 'linear'}\n",
      "0.961 (+/-0.008) for {'C': 10, 'kernel': 'linear'}\n",
      "1.000 (+/-0.000) for {'C': 1, 'kernel': 'poly'}\n",
      "1.000 (+/-0.000) for {'C': 10, 'kernel': 'poly'}\n",
      "0.929 (+/-0.031) for {'C': 1, 'gamma': 0.001, 'kernel': 'rbf'}\n",
      "0.896 (+/-0.032) for {'C': 1, 'gamma': 0.0001, 'kernel': 'rbf'}\n",
      "0.949 (+/-0.021) for {'C': 10, 'gamma': 0.001, 'kernel': 'rbf'}\n",
      "0.929 (+/-0.031) for {'C': 10, 'gamma': 0.0001, 'kernel': 'rbf'}\n",
      "\n",
      "Detailed classification report:\n",
      "\n",
      "The model is trained on the full development set.\n",
      "The scores are computed on the full evaluation set.\n",
      "\n",
      "              precision    recall  f1-score   support\n",
      "\n",
      "           0       1.00      1.00      1.00       842\n",
      "           1       1.00      1.00      1.00       783\n",
      "\n",
      "    accuracy                           1.00      1625\n",
      "   macro avg       1.00      1.00      1.00      1625\n",
      "weighted avg       1.00      1.00      1.00      1625\n",
      "\n",
      "\n",
      "# Tuning hyper-parameters for recall\n",
      "\n",
      "Best parameters set found on development set:\n",
      "\n",
      "{'C': 1, 'kernel': 'poly'}\n",
      "\n",
      "Grid scores on development set: \n",
      "\n",
      "0.949 (+/-0.017) for {'C': 1, 'kernel': 'linear'}\n",
      "0.960 (+/-0.008) for {'C': 10, 'kernel': 'linear'}\n",
      "1.000 (+/-0.000) for {'C': 1, 'kernel': 'poly'}\n",
      "1.000 (+/-0.000) for {'C': 10, 'kernel': 'poly'}\n",
      "0.926 (+/-0.032) for {'C': 1, 'gamma': 0.001, 'kernel': 'rbf'}\n",
      "0.885 (+/-0.035) for {'C': 1, 'gamma': 0.0001, 'kernel': 'rbf'}\n",
      "0.949 (+/-0.021) for {'C': 10, 'gamma': 0.001, 'kernel': 'rbf'}\n",
      "0.926 (+/-0.032) for {'C': 10, 'gamma': 0.0001, 'kernel': 'rbf'}\n",
      "\n",
      "Detailed classification report:\n",
      "\n",
      "The model is trained on the full development set.\n",
      "The scores are computed on the full evaluation set.\n",
      "\n",
      "              precision    recall  f1-score   support\n",
      "\n",
      "           0       1.00      1.00      1.00       842\n",
      "           1       1.00      1.00      1.00       783\n",
      "\n",
      "    accuracy                           1.00      1625\n",
      "   macro avg       1.00      1.00      1.00      1625\n",
      "weighted avg       1.00      1.00      1.00      1625\n",
      "\n",
      "\n"
     ]
    }
   ],
   "source": [
    "for score in scores:\n",
    "    print('# Tuning hyper-parameters for %s' % score)\n",
    "    print()\n",
    "    \n",
    "    clf = GridSearchCV(svm.SVC(), tuned_parameters, scoring='%s_macro' % score)\n",
    "    clf.fit(x_train_rescaled, y_train_transf)\n",
    "    \n",
    "    print('Best parameters set found on development set:')\n",
    "    print()\n",
    "    print(clf.best_params_)\n",
    "    print()\n",
    "    print('Grid scores on development set: ')\n",
    "    print()\n",
    "    means = clf.cv_results_['mean_test_score'] #avergae accuracy of each model\n",
    "    stds = clf.cv_results_['std_test_score'] #standard deviation of each model\n",
    "    for mean, std, params in zip(means, stds, clf.cv_results_['params']):\n",
    "        print('%0.3f (+/-%0.03f) for %r' %(mean,std*2,params))\n",
    "    print()\n",
    "    \n",
    "    print('Detailed classification report:')\n",
    "    print()\n",
    "    print('The model is trained on the full development set.')\n",
    "    print('The scores are computed on the full evaluation set.')\n",
    "    print()\n",
    "    y_true,y_pred=y_test_transf, clf.predict(scaling.transform(x_test_transf))\n",
    "    print(classification_report(y_true,y_pred))\n",
    "    print()"
   ]
  }
 ],
 "metadata": {
  "kernelspec": {
   "display_name": "Python 3 (ipykernel)",
   "language": "python",
   "name": "python3"
  },
  "language_info": {
   "codemirror_mode": {
    "name": "ipython",
    "version": 3
   },
   "file_extension": ".py",
   "mimetype": "text/x-python",
   "name": "python",
   "nbconvert_exporter": "python",
   "pygments_lexer": "ipython3",
   "version": "3.9.12"
  }
 },
 "nbformat": 4,
 "nbformat_minor": 5
}
