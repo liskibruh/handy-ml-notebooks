{
 "cells": [
  {
   "cell_type": "code",
   "execution_count": 1,
   "id": "a4f0e5d7",
   "metadata": {},
   "outputs": [],
   "source": [
    "import os\n",
    "import shutil #pip install pytest-shutil\n",
    "import splitfolders #pip install split-folders"
   ]
  },
  {
   "cell_type": "code",
   "execution_count": 2,
   "id": "79b77f6c",
   "metadata": {},
   "outputs": [],
   "source": [
    "root_dir = 'Dataset_BUSI_with_GT/'\n",
    "benign_dir = root_dir+'benign/' # Dataset_BUSI_with_GT/benign/\n",
    "malignant_dir = root_dir+'malignant/'# Dataset_BUSI_with_GT/malignant/\n",
    "normal_dir = root_dir+'normal/' #Dataset_BUSI_with_GT/normal"
   ]
  },
  {
   "cell_type": "code",
   "execution_count": 3,
   "id": "40897a59",
   "metadata": {},
   "outputs": [],
   "source": [
    "os.mkdir(root_dir+'images')\n",
    "os.mkdir(root_dir+'masks')"
   ]
  },
  {
   "cell_type": "code",
   "execution_count": 4,
   "id": "217e69ff",
   "metadata": {},
   "outputs": [],
   "source": [
    "images_dir = root_dir+'images/'\n",
    "masks_dir = root_dir+'masks/'\n",
    "\n",
    "for root, dirs, files in os.walk((os.path.normpath(benign_dir)), topdown=False):\n",
    "        for name in files:\n",
    "            if 'mask' in name:\n",
    "                #print (\"Found\")\n",
    "                SourceFolder = os.path.join(root,name)\n",
    "                shutil.move(SourceFolder, masks_dir) \n",
    "\n",
    "for root, dirs, files in os.walk((os.path.normpath(malignant_dir)), topdown=False):\n",
    "        for name in files:\n",
    "            if 'mask' in name:\n",
    "                #print (\"Found\")\n",
    "                SourceFolder = os.path.join(root,name)\n",
    "                shutil.move(SourceFolder, masks_dir) \n",
    "                \n",
    "for root, dirs, files in os.walk((os.path.normpath(normal_dir)), topdown=False):\n",
    "        for name in files:\n",
    "            if 'mask' in name:\n",
    "                #print (\"Found\")\n",
    "                SourceFolder = os.path.join(root,name)\n",
    "                shutil.move(SourceFolder, masks_dir) "
   ]
  },
  {
   "cell_type": "code",
   "execution_count": 5,
   "id": "190f6f32",
   "metadata": {},
   "outputs": [],
   "source": [
    "for root, dirs, files in os.walk((os.path.normpath(benign_dir)), topdown=False):\n",
    "        for name in files:\n",
    "            if name.endswith('.png'):\n",
    "                #print (\"Found\")\n",
    "                SourceFolder = os.path.join(root,name)\n",
    "                shutil.move(SourceFolder, images_dir)\n",
    "\n",
    "for root, dirs, files in os.walk((os.path.normpath(malignant_dir)), topdown=False):\n",
    "        for name in files:\n",
    "            if name.endswith('.png'):\n",
    "                #print (\"Found\")\n",
    "                SourceFolder = os.path.join(root,name)\n",
    "                shutil.move(SourceFolder, images_dir) \n",
    "        \n",
    "for root, dirs, files in os.walk((os.path.normpath(normal_dir)), topdown=False):\n",
    "        for name in files:\n",
    "            if name.endswith('.png'):\n",
    "                #print (\"Found\")\n",
    "                SourceFolder = os.path.join(root,name)\n",
    "                shutil.move(SourceFolder, images_dir) "
   ]
  },
  {
   "cell_type": "code",
   "execution_count": 6,
   "id": "31b96bea",
   "metadata": {},
   "outputs": [],
   "source": [
    "os.rmdir(benign_dir)\n",
    "os.rmdir(malignant_dir)\n",
    "os.rmdir(normal_dir)"
   ]
  },
  {
   "cell_type": "code",
   "execution_count": 7,
   "id": "c4b32d4c",
   "metadata": {},
   "outputs": [],
   "source": [
    "os.mkdir(root_dir+'data/')"
   ]
  },
  {
   "cell_type": "code",
   "execution_count": 8,
   "id": "ac657fda",
   "metadata": {},
   "outputs": [
    {
     "data": {
      "text/plain": [
       "'Dataset_BUSI_with_GT/data/images'"
      ]
     },
     "execution_count": 8,
     "metadata": {},
     "output_type": "execute_result"
    }
   ],
   "source": [
    "shutil.move(root_dir+'images/',root_dir+'data/')"
   ]
  },
  {
   "cell_type": "code",
   "execution_count": 9,
   "id": "5498c3d3",
   "metadata": {},
   "outputs": [
    {
     "data": {
      "text/plain": [
       "'Dataset_BUSI_with_GT/data/masks'"
      ]
     },
     "execution_count": 9,
     "metadata": {},
     "output_type": "execute_result"
    }
   ],
   "source": [
    "shutil.move(root_dir+'masks/',root_dir+'data/')"
   ]
  },
  {
   "cell_type": "code",
   "execution_count": 10,
   "id": "731bfc18",
   "metadata": {},
   "outputs": [],
   "source": [
    "#removing multiple masks for single image\n",
    "\n",
    "temp_dir=root_dir+'data/masks/' # Dataset_BUSI_with_GT/data/masks/\n",
    "\n",
    "for root, dirs, files in os.walk((os.path.normpath(temp_dir)), topdown=False):\n",
    "        for file in files:\n",
    "            if '_mask_1' in file:\n",
    "                SourceFile = os.path.join(root,file)\n",
    "                os.remove(SourceFile)\n",
    "            if '_mask_2' in file:\n",
    "                SourceFile = os.path.join(root,file)\n",
    "                os.remove(SourceFile)"
   ]
  },
  {
   "cell_type": "code",
   "execution_count": 11,
   "id": "36d7392e",
   "metadata": {},
   "outputs": [
    {
     "name": "stderr",
     "output_type": "stream",
     "text": [
      "Copying files: 1560 files [00:08, 175.65 files/s]\n"
     ]
    }
   ],
   "source": [
    "input_folder = root_dir+'data/'\n",
    "output_folder = root_dir+'data_for_training_and_testing'\n",
    "\n",
    "splitfolders.ratio(input_folder, output=output_folder, seed=42, ratio=(.8,.1,.1),group_prefix=None)"
   ]
  },
  {
   "cell_type": "code",
   "execution_count": null,
   "id": "831a8bcd",
   "metadata": {},
   "outputs": [],
   "source": []
  }
 ],
 "metadata": {
  "kernelspec": {
   "display_name": "Python 3 (ipykernel)",
   "language": "python",
   "name": "python3"
  },
  "language_info": {
   "codemirror_mode": {
    "name": "ipython",
    "version": 3
   },
   "file_extension": ".py",
   "mimetype": "text/x-python",
   "name": "python",
   "nbconvert_exporter": "python",
   "pygments_lexer": "ipython3",
   "version": "3.9.13"
  }
 },
 "nbformat": 4,
 "nbformat_minor": 5
}
