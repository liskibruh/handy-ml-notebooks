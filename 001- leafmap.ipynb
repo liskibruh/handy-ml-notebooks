{
 "cells": [
  {
   "cell_type": "code",
   "execution_count": 1,
   "id": "b3f770a0",
   "metadata": {},
   "outputs": [],
   "source": [
    "import leafmap.foliumap as leafmap"
   ]
  },
  {
   "cell_type": "code",
   "execution_count": 4,
   "id": "f99cc0fa",
   "metadata": {},
   "outputs": [
    {
     "data": {
      "text/html": [
       "<iframe srcdoc=\"&lt;!DOCTYPE html&gt;\n",
       "&lt;head&gt;    \n",
       "    &lt;meta http-equiv=&quot;content-type&quot; content=&quot;text/html; charset=UTF-8&quot; /&gt;\n",
       "    \n",
       "        &lt;script&gt;\n",
       "            L_NO_TOUCH = false;\n",
       "            L_DISABLE_3D = false;\n",
       "        &lt;/script&gt;\n",
       "    \n",
       "    &lt;style&gt;html, body {width: 100%;height: 100%;margin: 0;padding: 0;}&lt;/style&gt;\n",
       "    &lt;style&gt;#map {position:absolute;top:0;bottom:0;right:0;left:0;}&lt;/style&gt;\n",
       "    &lt;script src=&quot;https://cdn.jsdelivr.net/npm/leaflet@1.6.0/dist/leaflet.js&quot;&gt;&lt;/script&gt;\n",
       "    &lt;script src=&quot;https://code.jquery.com/jquery-1.12.4.min.js&quot;&gt;&lt;/script&gt;\n",
       "    &lt;script src=&quot;https://maxcdn.bootstrapcdn.com/bootstrap/3.2.0/js/bootstrap.min.js&quot;&gt;&lt;/script&gt;\n",
       "    &lt;script src=&quot;https://cdnjs.cloudflare.com/ajax/libs/Leaflet.awesome-markers/2.0.2/leaflet.awesome-markers.js&quot;&gt;&lt;/script&gt;\n",
       "    &lt;link rel=&quot;stylesheet&quot; href=&quot;https://cdn.jsdelivr.net/npm/leaflet@1.6.0/dist/leaflet.css&quot;/&gt;\n",
       "    &lt;link rel=&quot;stylesheet&quot; href=&quot;https://maxcdn.bootstrapcdn.com/bootstrap/3.2.0/css/bootstrap.min.css&quot;/&gt;\n",
       "    &lt;link rel=&quot;stylesheet&quot; href=&quot;https://maxcdn.bootstrapcdn.com/bootstrap/3.2.0/css/bootstrap-theme.min.css&quot;/&gt;\n",
       "    &lt;link rel=&quot;stylesheet&quot; href=&quot;https://maxcdn.bootstrapcdn.com/font-awesome/4.6.3/css/font-awesome.min.css&quot;/&gt;\n",
       "    &lt;link rel=&quot;stylesheet&quot; href=&quot;https://cdnjs.cloudflare.com/ajax/libs/Leaflet.awesome-markers/2.0.2/leaflet.awesome-markers.css&quot;/&gt;\n",
       "    &lt;link rel=&quot;stylesheet&quot; href=&quot;https://cdn.jsdelivr.net/gh/python-visualization/folium/folium/templates/leaflet.awesome.rotate.min.css&quot;/&gt;\n",
       "    \n",
       "            &lt;meta name=&quot;viewport&quot; content=&quot;width=device-width,\n",
       "                initial-scale=1.0, maximum-scale=1.0, user-scalable=no&quot; /&gt;\n",
       "            &lt;style&gt;\n",
       "                #map_52ffb5c28795fb3ff7bb26bf1c89998e {\n",
       "                    position: relative;\n",
       "                    width: 100.0%;\n",
       "                    height: 100.0%;\n",
       "                    left: 0.0%;\n",
       "                    top: 0.0%;\n",
       "                }\n",
       "            &lt;/style&gt;\n",
       "        \n",
       "    &lt;script src=&quot;https://cdnjs.cloudflare.com/ajax/libs/leaflet.fullscreen/1.4.2/Control.FullScreen.min.js&quot;&gt;&lt;/script&gt;\n",
       "    &lt;link rel=&quot;stylesheet&quot; href=&quot;https://cdnjs.cloudflare.com/ajax/libs/leaflet.fullscreen/1.4.2/Control.FullScreen.min.css&quot;/&gt;\n",
       "    &lt;script src=&quot;https://cdnjs.cloudflare.com/ajax/libs/leaflet.draw/1.0.2/leaflet.draw.js&quot;&gt;&lt;/script&gt;\n",
       "    &lt;link rel=&quot;stylesheet&quot; href=&quot;https://cdnjs.cloudflare.com/ajax/libs/leaflet.draw/1.0.2/leaflet.draw.css&quot;/&gt;\n",
       "    \n",
       "            &lt;style&gt;\n",
       "                #export {\n",
       "                    position: absolute;\n",
       "                    top: 5px;\n",
       "                    right: 10px;\n",
       "                    z-index: 999;\n",
       "                    background: white;\n",
       "                    color: black;\n",
       "                    padding: 6px;\n",
       "                    border-radius: 4px;\n",
       "                    font-family: &#x27;Helvetica Neue&#x27;;\n",
       "                    cursor: pointer;\n",
       "                    font-size: 12px;\n",
       "                    text-decoration: none;\n",
       "                    top: 90px;\n",
       "                }\n",
       "            &lt;/style&gt;\n",
       "        \n",
       "    &lt;script src=&quot;https://cdn.jsdelivr.net/gh/ljagis/leaflet-measure@2.1.7/dist/leaflet-measure.min.js&quot;&gt;&lt;/script&gt;\n",
       "    &lt;link rel=&quot;stylesheet&quot; href=&quot;https://cdn.jsdelivr.net/gh/ljagis/leaflet-measure@2.1.7/dist/leaflet-measure.min.css&quot;/&gt;\n",
       "    &lt;script src=&quot;https://cdnjs.cloudflare.com/ajax/libs/leaflet-locatecontrol/0.66.2/L.Control.Locate.min.js&quot;&gt;&lt;/script&gt;\n",
       "    &lt;link rel=&quot;stylesheet&quot; href=&quot;https://cdnjs.cloudflare.com/ajax/libs/leaflet-locatecontrol/0.66.2/L.Control.Locate.min.css&quot;/&gt;\n",
       "    &lt;script src=&quot;https://cdnjs.cloudflare.com/ajax/libs/leaflet-minimap/3.6.1/Control.MiniMap.js&quot;&gt;&lt;/script&gt;\n",
       "    &lt;link rel=&quot;stylesheet&quot; href=&quot;https://cdnjs.cloudflare.com/ajax/libs/leaflet-minimap/3.6.1/Control.MiniMap.css&quot;/&gt;\n",
       "    &lt;script src=&quot;https://unpkg.com/leaflet-control-geocoder/dist/Control.Geocoder.js&quot;&gt;&lt;/script&gt;\n",
       "    &lt;link rel=&quot;stylesheet&quot; href=&quot;https://unpkg.com/leaflet-control-geocoder/dist/Control.Geocoder.css&quot;/&gt;\n",
       "&lt;/head&gt;\n",
       "&lt;body&gt;    \n",
       "    \n",
       "            &lt;div class=&quot;folium-map&quot; id=&quot;map_52ffb5c28795fb3ff7bb26bf1c89998e&quot; &gt;&lt;/div&gt;\n",
       "        \n",
       "    &lt;a href=&#x27;#&#x27; id=&#x27;export&#x27;&gt;Export&lt;/a&gt;\n",
       "&lt;/body&gt;\n",
       "&lt;script&gt;    \n",
       "    \n",
       "            var map_52ffb5c28795fb3ff7bb26bf1c89998e = L.map(\n",
       "                &quot;map_52ffb5c28795fb3ff7bb26bf1c89998e&quot;,\n",
       "                {\n",
       "                    center: [20.0, 0.0],\n",
       "                    crs: L.CRS.EPSG3857,\n",
       "                    zoom: 2,\n",
       "                    zoomControl: true,\n",
       "                    preferCanvas: false,\n",
       "                    locateControl: true,\n",
       "                    latlonControl: true,\n",
       "                    drawExport: true,\n",
       "                    minimapControl: true,\n",
       "                    layersControl: true,\n",
       "                }\n",
       "            );\n",
       "            L.control.scale().addTo(map_52ffb5c28795fb3ff7bb26bf1c89998e);\n",
       "\n",
       "            \n",
       "\n",
       "        \n",
       "    \n",
       "            var tile_layer_3bdcd720358000e1703c1bfde3e8e3c3 = L.tileLayer(\n",
       "                &quot;https://{s}.tile.openstreetmap.org/{z}/{x}/{y}.png&quot;,\n",
       "                {&quot;attribution&quot;: &quot;Data by \\u0026copy; \\u003ca href=\\&quot;http://openstreetmap.org\\&quot;\\u003eOpenStreetMap\\u003c/a\\u003e, under \\u003ca href=\\&quot;http://www.openstreetmap.org/copyright\\&quot;\\u003eODbL\\u003c/a\\u003e.&quot;, &quot;detectRetina&quot;: false, &quot;maxNativeZoom&quot;: 24, &quot;maxZoom&quot;: 24, &quot;minZoom&quot;: 0, &quot;noWrap&quot;: false, &quot;opacity&quot;: 1, &quot;subdomains&quot;: &quot;abc&quot;, &quot;tms&quot;: false}\n",
       "            ).addTo(map_52ffb5c28795fb3ff7bb26bf1c89998e);\n",
       "        \n",
       "    \n",
       "            L.control.fullscreen(\n",
       "                {&quot;forceSeparateButton&quot;: false, &quot;position&quot;: &quot;topleft&quot;, &quot;title&quot;: &quot;Full Screen&quot;, &quot;titleCancel&quot;: &quot;Exit Full Screen&quot;}\n",
       "            ).addTo(map_52ffb5c28795fb3ff7bb26bf1c89998e);\n",
       "        \n",
       "    \n",
       "            var options = {\n",
       "              position: &quot;topleft&quot;,\n",
       "              draw: {},\n",
       "              edit: {},\n",
       "            }\n",
       "            // FeatureGroup is to store editable layers.\n",
       "            var drawnItems = new L.featureGroup().addTo(\n",
       "                map_52ffb5c28795fb3ff7bb26bf1c89998e\n",
       "            );\n",
       "            options.edit.featureGroup = drawnItems;\n",
       "            var draw_control_cc00ea4bd355dbd91186e72df1288b9b = new L.Control.Draw(\n",
       "                options\n",
       "            ).addTo( map_52ffb5c28795fb3ff7bb26bf1c89998e );\n",
       "            map_52ffb5c28795fb3ff7bb26bf1c89998e.on(L.Draw.Event.CREATED, function(e) {\n",
       "                var layer = e.layer,\n",
       "                    type = e.layerType;\n",
       "                var coords = JSON.stringify(layer.toGeoJSON());\n",
       "                layer.on(&#x27;click&#x27;, function() {\n",
       "                    alert(coords);\n",
       "                    console.log(coords);\n",
       "                });\n",
       "                drawnItems.addLayer(layer);\n",
       "             });\n",
       "            map_52ffb5c28795fb3ff7bb26bf1c89998e.on(&#x27;draw:created&#x27;, function(e) {\n",
       "                drawnItems.addLayer(e.layer);\n",
       "            });\n",
       "            \n",
       "            document.getElementById(&#x27;export&#x27;).onclick = function(e) {\n",
       "                var data = drawnItems.toGeoJSON();\n",
       "                var convertedData = &#x27;text/json;charset=utf-8,&#x27;\n",
       "                    + encodeURIComponent(JSON.stringify(data));\n",
       "                document.getElementById(&#x27;export&#x27;).setAttribute(\n",
       "                    &#x27;href&#x27;, &#x27;data:&#x27; + convertedData\n",
       "                );\n",
       "                document.getElementById(&#x27;export&#x27;).setAttribute(\n",
       "                    &#x27;download&#x27;, &quot;data.geojson&quot;\n",
       "                );\n",
       "            }\n",
       "            \n",
       "        \n",
       "    \n",
       "            var measure_control_ea44dfcb4ce2fa02683f0ee1c4066277 = new L.Control.Measure(\n",
       "                {&quot;position&quot;: &quot;bottomleft&quot;, &quot;primaryAreaUnit&quot;: &quot;sqmeters&quot;, &quot;primaryLengthUnit&quot;: &quot;meters&quot;, &quot;secondaryAreaUnit&quot;: &quot;acres&quot;, &quot;secondaryLengthUnit&quot;: &quot;miles&quot;});\n",
       "            map_52ffb5c28795fb3ff7bb26bf1c89998e.addControl(measure_control_ea44dfcb4ce2fa02683f0ee1c4066277);\n",
       "\n",
       "        \n",
       "    \n",
       "                var lat_lng_popup_f711be91a5bed63456e953dd9bc683d6 = L.popup();\n",
       "                function latLngPop(e) {\n",
       "                    lat_lng_popup_f711be91a5bed63456e953dd9bc683d6\n",
       "                        .setLatLng(e.latlng)\n",
       "                        .setContent(&quot;Latitude: &quot; + e.latlng.lat.toFixed(4) +\n",
       "                                    &quot;&lt;br&gt;Longitude: &quot; + e.latlng.lng.toFixed(4))\n",
       "                        .openOn(map_52ffb5c28795fb3ff7bb26bf1c89998e);\n",
       "                    }\n",
       "                map_52ffb5c28795fb3ff7bb26bf1c89998e.on(&#x27;click&#x27;, latLngPop);\n",
       "            \n",
       "    \n",
       "            var locate_control_f6c76832b3945844e997489db0f3243d = L.control.locate(\n",
       "                {}\n",
       "            ).addTo(map_52ffb5c28795fb3ff7bb26bf1c89998e);\n",
       "            \n",
       "        \n",
       "    \n",
       "            var tile_layer_80981bf248fb58ee107b0b1fd72cd3af = L.tileLayer(\n",
       "                &quot;https://{s}.tile.openstreetmap.org/{z}/{x}/{y}.png&quot;,\n",
       "                {&quot;attribution&quot;: &quot;Data by \\u0026copy; \\u003ca href=\\&quot;http://openstreetmap.org\\&quot;\\u003eOpenStreetMap\\u003c/a\\u003e, under \\u003ca href=\\&quot;http://www.openstreetmap.org/copyright\\&quot;\\u003eODbL\\u003c/a\\u003e.&quot;, &quot;detectRetina&quot;: false, &quot;maxNativeZoom&quot;: 18, &quot;maxZoom&quot;: 18, &quot;minZoom&quot;: 0, &quot;noWrap&quot;: false, &quot;opacity&quot;: 1, &quot;subdomains&quot;: &quot;abc&quot;, &quot;tms&quot;: false}\n",
       "            );\n",
       "            var mini_map_06cbe3c11e34842c8f5cff131adf549d = new L.Control.MiniMap(\n",
       "                tile_layer_80981bf248fb58ee107b0b1fd72cd3af,\n",
       "                {&quot;autoToggleDisplay&quot;: false, &quot;centerFixed&quot;: false, &quot;collapsedHeight&quot;: 25, &quot;collapsedWidth&quot;: 25, &quot;height&quot;: 150, &quot;minimized&quot;: false, &quot;position&quot;: &quot;bottomright&quot;, &quot;toggleDisplay&quot;: false, &quot;width&quot;: 150, &quot;zoomAnimation&quot;: false, &quot;zoomLevelOffset&quot;: -5}\n",
       "            );\n",
       "            map_52ffb5c28795fb3ff7bb26bf1c89998e.addControl(mini_map_06cbe3c11e34842c8f5cff131adf549d);\n",
       "        \n",
       "    \n",
       "            L.Control.geocoder(\n",
       "                {&quot;collapsed&quot;: true, &quot;defaultMarkGeocode&quot;: true, &quot;position&quot;: &quot;topleft&quot;}\n",
       "            ).on(&#x27;markgeocode&#x27;, function(e) {\n",
       "                map_52ffb5c28795fb3ff7bb26bf1c89998e.setView(e.geocode.center, 11);\n",
       "            }).addTo(map_52ffb5c28795fb3ff7bb26bf1c89998e);\n",
       "\n",
       "        \n",
       "    \n",
       "            map_52ffb5c28795fb3ff7bb26bf1c89998e.fitBounds(\n",
       "                [[20, 0], [20, 0]],\n",
       "                {&quot;maxZoom&quot;: 2}\n",
       "            );\n",
       "        \n",
       "    \n",
       "            var layer_control_3baa9a97e25548fd6d10a9e2b305c09c = {\n",
       "                base_layers : {\n",
       "                    &quot;openstreetmap&quot; : tile_layer_3bdcd720358000e1703c1bfde3e8e3c3,\n",
       "                },\n",
       "                overlays :  {\n",
       "                },\n",
       "            };\n",
       "            L.control.layers(\n",
       "                layer_control_3baa9a97e25548fd6d10a9e2b305c09c.base_layers,\n",
       "                layer_control_3baa9a97e25548fd6d10a9e2b305c09c.overlays,\n",
       "                {&quot;autoZIndex&quot;: true, &quot;collapsed&quot;: true, &quot;position&quot;: &quot;topright&quot;}\n",
       "            ).addTo(map_52ffb5c28795fb3ff7bb26bf1c89998e);\n",
       "        \n",
       "&lt;/script&gt;\" width=\"100%\" height=\"600\"style=\"border:none !important;\" \"allowfullscreen\" \"webkitallowfullscreen\" \"mozallowfullscreen\"></iframe>"
      ],
      "text/plain": [
       "<leafmap.foliumap.Map at 0x1485680db40>"
      ]
     },
     "execution_count": 4,
     "metadata": {},
     "output_type": "execute_result"
    }
   ],
   "source": [
    "m = leafmap.Map(locate_control=True, latlon_control=True, draw_export=True, minimap_control=True)\n",
    "m"
   ]
  },
  {
   "cell_type": "code",
   "execution_count": 5,
   "id": "5f4121bf",
   "metadata": {},
   "outputs": [],
   "source": [
    "start_date = '2022-08-15'\n",
    "end_date = '2022-10-30'"
   ]
  },
  {
   "cell_type": "code",
   "execution_count": 10,
   "id": "4bd3efe2",
   "metadata": {},
   "outputs": [
    {
     "name": "stdout",
     "output_type": "stream",
     "text": [
      "ee.Geometry({\n",
      "  \"functionInvocationValue\": {\n",
      "    \"functionName\": \"GeometryConstructors.Polygon\",\n",
      "    \"arguments\": {\n",
      "      \"coordinates\": {\n",
      "        \"constantValue\": [\n",
      "          [\n",
      "            [\n",
      "              67.527016,\n",
      "              26.698999\n",
      "            ],\n",
      "            [\n",
      "              67.527016,\n",
      "              27.105589\n",
      "            ],\n",
      "            [\n",
      "              68.092573,\n",
      "              27.105589\n",
      "            ],\n",
      "            [\n",
      "              68.092573,\n",
      "              26.698999\n",
      "            ],\n",
      "            [\n",
      "              67.527016,\n",
      "              26.698999\n",
      "            ]\n",
      "          ]\n",
      "        ]\n",
      "      },\n",
      "      \"evenOdd\": {\n",
      "        \"constantValue\": true\n",
      "      }\n",
      "    }\n",
      "  }\n",
      "})\n"
     ]
    }
   ],
   "source": [
    "import json\n",
    "\n",
    "# Define the GeoJSON object.\n",
    "geojson = {\"type\":\"FeatureCollection\",\"features\":[{\"type\":\"Feature\",\"properties\":{},\"geometry\":{\"type\":\"Polygon\",\"coordinates\":[[[67.527016,26.698999],[67.527016,27.105589],[68.092573,27.105589],[68.092573,26.698999],[67.527016,26.698999]]]}}]}\n",
    "\n",
    "# Parse the GeoJSON object\n",
    "parsed_json = json.loads(json.dumps(geojson))\n",
    "\n",
    "# Extract the coordinates from the GeoJSON object\n",
    "coordinates = parsed_json['features'][0]['geometry']['coordinates'][0]\n",
    "\n",
    "# Create an ee.Geometry object using the coordinates\n",
    "geometry = ee.Geometry.Polygon(coordinates)\n",
    "\n",
    "# Print the geometry\n",
    "print(geometry)"
   ]
  },
  {
   "cell_type": "code",
   "execution_count": 11,
   "id": "258b7186",
   "metadata": {},
   "outputs": [],
   "source": [
    "image_collection = ee.ImageCollection(\"LANDSAT/LC09/C02/T1_L2\") \\\n",
    "        .filterDate(start_date, end_date) \\\n",
    "        .filterBounds(geometry)"
   ]
  },
  {
   "cell_type": "code",
   "execution_count": 12,
   "id": "9d5b1667",
   "metadata": {},
   "outputs": [],
   "source": [
    "median = image_collection.median()"
   ]
  },
  {
   "cell_type": "code",
   "execution_count": 13,
   "id": "16b2da02",
   "metadata": {},
   "outputs": [],
   "source": [
    "def apply_scale_factors(image):\n",
    "    opticalBands = image.select('SR_B.').multiply(0.0000275).add(-0.2)\n",
    "    thermalBands = image.select('ST_B.*').multiply(0.00341802).add(149.0)\n",
    "    return image.addBands(opticalBands, None, True).addBands(thermalBands, None, True)"
   ]
  },
  {
   "cell_type": "code",
   "execution_count": 14,
   "id": "a2b9ca7f",
   "metadata": {},
   "outputs": [],
   "source": [
    "dataset = apply_scale_factors(median)"
   ]
  },
  {
   "cell_type": "code",
   "execution_count": 15,
   "id": "dd0e9aee",
   "metadata": {},
   "outputs": [
    {
     "data": {
      "text/plain": [
       "<ee.image.Image at 0x148586b7070>"
      ]
     },
     "execution_count": 15,
     "metadata": {},
     "output_type": "execute_result"
    }
   ],
   "source": [
    "dataset"
   ]
  },
  {
   "cell_type": "code",
   "execution_count": 16,
   "id": "5f0ddc00",
   "metadata": {},
   "outputs": [],
   "source": [
    "imageRGB = dataset.visualize(**{'bands': ['SR_B4', 'SR_B3', 'SR_B2'], 'min':0.0, 'max': 0.3})"
   ]
  },
  {
   "cell_type": "code",
   "execution_count": 19,
   "id": "b74fa7e6",
   "metadata": {},
   "outputs": [],
   "source": [
    "import os\n",
    "\n",
    "out_dir = os.path.join(os.path.expanduser('~'), 'Downloads')\n",
    "filename = os.path.join(out_dir, 'image.tif')"
   ]
  },
  {
   "cell_type": "code",
   "execution_count": 21,
   "id": "39818e17",
   "metadata": {},
   "outputs": [
    {
     "name": "stdout",
     "output_type": "stream",
     "text": [
      "Generating URL ...\n",
      "Downloading data from https://earthengine.googleapis.com/v1alpha/projects/earthengine-legacy/thumbnails/68e8954267b2cd2ff12f9d71e89b9328-96590686b11e9a032c4cd7673a59c2e5:getPixels\n",
      "Please wait ...\n",
      "Data downloaded to C:\\Users\\oo_wa\\Downloads\\image.tif\n"
     ]
    }
   ],
   "source": [
    "import geemap\n",
    "geemap.ee_export_image(imageRGB,filename=filename,scale= 50, region=geometry)"
   ]
  }
 ],
 "metadata": {
  "kernelspec": {
   "display_name": "Python 3 (ipykernel)",
   "language": "python",
   "name": "python3"
  },
  "language_info": {
   "codemirror_mode": {
    "name": "ipython",
    "version": 3
   },
   "file_extension": ".py",
   "mimetype": "text/x-python",
   "name": "python",
   "nbconvert_exporter": "python",
   "pygments_lexer": "ipython3",
   "version": "3.10.6"
  }
 },
 "nbformat": 4,
 "nbformat_minor": 5
}
