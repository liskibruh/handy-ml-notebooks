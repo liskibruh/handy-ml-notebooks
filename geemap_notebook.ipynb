{
 "cells": [
  {
   "cell_type": "code",
   "execution_count": 6,
   "id": "fd034c45",
   "metadata": {},
   "outputs": [],
   "source": [
    "import geemap\n",
    "import ee"
   ]
  },
  {
   "cell_type": "code",
   "execution_count": 7,
   "id": "1ff67cbb",
   "metadata": {},
   "outputs": [
    {
     "data": {
      "application/vnd.jupyter.widget-view+json": {
       "model_id": "6cf986cd15734c2cb4dd69c3e8d3a4f3",
       "version_major": 2,
       "version_minor": 0
      },
      "text/plain": [
       "Map(center=[20, 0], controls=(WidgetControl(options=['position', 'transparent_bg'], widget=HBox(children=(Togg…"
      ]
     },
     "metadata": {},
     "output_type": "display_data"
    }
   ],
   "source": [
    "gmap = geemap.Map()\n",
    "gmap"
   ]
  },
  {
   "cell_type": "code",
   "execution_count": 8,
   "id": "969f4479",
   "metadata": {},
   "outputs": [],
   "source": [
    "# Select the area of interest by drawing a rectangle on the map\n",
    "bounds = gmap.draw_last_feature\n",
    "roi = bounds.geometry()"
   ]
  },
  {
   "cell_type": "code",
   "execution_count": 30,
   "id": "df9d7841",
   "metadata": {},
   "outputs": [],
   "source": [
    "start_date = '2022-08-15'\n",
    "end_date = '2022-10-30'"
   ]
  },
  {
   "cell_type": "code",
   "execution_count": 31,
   "id": "5eb15a2d",
   "metadata": {},
   "outputs": [],
   "source": [
    "# Create an image collection object\n",
    "#LANDSAT/LC09/C02/T1\n",
    "image_collection = ee.ImageCollection(\"LANDSAT/LC09/C02/T1\") \\\n",
    "        .filterDate(start_date, end_date) \\\n",
    "        .filterBounds(roi)"
   ]
  },
  {
   "cell_type": "code",
   "execution_count": 32,
   "id": "63cb2276",
   "metadata": {},
   "outputs": [],
   "source": [
    "# Get the first image from the collection\n",
    "image = image_collection.first()"
   ]
  },
  {
   "cell_type": "code",
   "execution_count": 33,
   "id": "85bc6c30",
   "metadata": {},
   "outputs": [],
   "source": [
    "# Select the RGB bands\n",
    "rgb_image = image.select(['B4', 'B3', 'B2'])"
   ]
  },
  {
   "cell_type": "code",
   "execution_count": 40,
   "id": "50063485",
   "metadata": {},
   "outputs": [],
   "source": [
    "gmap.addLayer(rgb_image)"
   ]
  },
  {
   "cell_type": "code",
   "execution_count": 34,
   "id": "4dccf5fb",
   "metadata": {},
   "outputs": [],
   "source": [
    "import os\n",
    "\n",
    "out_dir = os.path.join(os.path.expanduser('~'), 'Downloads')\n",
    "filename = os.path.join(out_dir, 'image.tif')"
   ]
  },
  {
   "cell_type": "code",
   "execution_count": 39,
   "id": "33d5573d",
   "metadata": {},
   "outputs": [
    {
     "name": "stdout",
     "output_type": "stream",
     "text": [
      "Generating URL ...\n",
      "Downloading data from https://earthengine.googleapis.com/v1alpha/projects/earthengine-legacy/thumbnails/d4f7ab528018ab290fa4d2e5a0673568-64fc7b890e86e888e648adf8d8002299:getPixels\n",
      "Please wait ...\n",
      "Data downloaded to C:\\Users\\oo_wa\\Downloads\\image.tif\n"
     ]
    }
   ],
   "source": [
    "geemap.ee_export_image(rgb_image,filename=filename,scale= 8, region=roi)"
   ]
  },
  {
   "cell_type": "code",
   "execution_count": 23,
   "id": "290798cc",
   "metadata": {},
   "outputs": [
    {
     "ename": "EEException",
     "evalue": "Pixel grid dimensions (257505x263880) must be less than or equal to 32768.",
     "output_type": "error",
     "traceback": [
      "\u001b[1;31m---------------------------------------------------------------------------\u001b[0m",
      "\u001b[1;31mHttpError\u001b[0m                                 Traceback (most recent call last)",
      "File \u001b[1;32m~\\AppData\\Roaming\\Python\\Python39\\site-packages\\ee\\data.py:326\u001b[0m, in \u001b[0;36m_execute_cloud_call\u001b[1;34m(call, num_retries)\u001b[0m\n\u001b[0;32m    325\u001b[0m \u001b[38;5;28;01mtry\u001b[39;00m:\n\u001b[1;32m--> 326\u001b[0m   \u001b[38;5;28;01mreturn\u001b[39;00m \u001b[43mcall\u001b[49m\u001b[38;5;241;43m.\u001b[39;49m\u001b[43mexecute\u001b[49m\u001b[43m(\u001b[49m\u001b[43mnum_retries\u001b[49m\u001b[38;5;241;43m=\u001b[39;49m\u001b[43mnum_retries\u001b[49m\u001b[43m)\u001b[49m\n\u001b[0;32m    327\u001b[0m \u001b[38;5;28;01mexcept\u001b[39;00m googleapiclient\u001b[38;5;241m.\u001b[39merrors\u001b[38;5;241m.\u001b[39mHttpError \u001b[38;5;28;01mas\u001b[39;00m e:\n",
      "File \u001b[1;32m~\\AppData\\Roaming\\Python\\Python39\\site-packages\\googleapiclient\\_helpers.py:130\u001b[0m, in \u001b[0;36mpositional.<locals>.positional_decorator.<locals>.positional_wrapper\u001b[1;34m(*args, **kwargs)\u001b[0m\n\u001b[0;32m    129\u001b[0m         logger\u001b[38;5;241m.\u001b[39mwarning(message)\n\u001b[1;32m--> 130\u001b[0m \u001b[38;5;28;01mreturn\u001b[39;00m wrapped(\u001b[38;5;241m*\u001b[39margs, \u001b[38;5;241m*\u001b[39m\u001b[38;5;241m*\u001b[39mkwargs)\n",
      "File \u001b[1;32m~\\AppData\\Roaming\\Python\\Python39\\site-packages\\googleapiclient\\http.py:938\u001b[0m, in \u001b[0;36mHttpRequest.execute\u001b[1;34m(self, http, num_retries)\u001b[0m\n\u001b[0;32m    937\u001b[0m \u001b[38;5;28;01mif\u001b[39;00m resp\u001b[38;5;241m.\u001b[39mstatus \u001b[38;5;241m>\u001b[39m\u001b[38;5;241m=\u001b[39m \u001b[38;5;241m300\u001b[39m:\n\u001b[1;32m--> 938\u001b[0m     \u001b[38;5;28;01mraise\u001b[39;00m HttpError(resp, content, uri\u001b[38;5;241m=\u001b[39m\u001b[38;5;28mself\u001b[39m\u001b[38;5;241m.\u001b[39muri)\n\u001b[0;32m    939\u001b[0m \u001b[38;5;28;01mreturn\u001b[39;00m \u001b[38;5;28mself\u001b[39m\u001b[38;5;241m.\u001b[39mpostproc(resp, content)\n",
      "\u001b[1;31mHttpError\u001b[0m: <HttpError 400 when requesting https://earthengine.googleapis.com/v1alpha/projects/earthengine-legacy/thumbnails?fields=name&alt=json returned \"Pixel grid dimensions (257505x263880) must be less than or equal to 32768.\". Details: \"Pixel grid dimensions (257505x263880) must be less than or equal to 32768.\">",
      "\nDuring handling of the above exception, another exception occurred:\n",
      "\u001b[1;31mEEException\u001b[0m                               Traceback (most recent call last)",
      "Cell \u001b[1;32mIn [23], line 11\u001b[0m\n\u001b[0;32m      8\u001b[0m folder \u001b[38;5;241m=\u001b[39m \u001b[38;5;124m'\u001b[39m\u001b[38;5;124mNeural Networks/\u001b[39m\u001b[38;5;124m'\u001b[39m\n\u001b[0;32m     10\u001b[0m \u001b[38;5;66;03m# Get the download URL for the image\u001b[39;00m\n\u001b[1;32m---> 11\u001b[0m url \u001b[38;5;241m=\u001b[39m \u001b[43mrgb_image\u001b[49m\u001b[38;5;241;43m.\u001b[39;49m\u001b[43mgetDownloadURL\u001b[49m\u001b[43m(\u001b[49m\u001b[43m{\u001b[49m\u001b[43m \u001b[49m\u001b[38;5;124;43m'\u001b[39;49m\u001b[38;5;124;43mcrs\u001b[39;49m\u001b[38;5;124;43m'\u001b[39;49m\u001b[43m:\u001b[49m\u001b[43m \u001b[49m\u001b[38;5;124;43m'\u001b[39;49m\u001b[38;5;124;43mEPSG:3857\u001b[39;49m\u001b[38;5;124;43m'\u001b[39;49m\u001b[43m}\u001b[49m\u001b[43m)\u001b[49m\n\u001b[0;32m     14\u001b[0m \u001b[38;5;66;03m# # Open the image from URL\u001b[39;00m\n\u001b[0;32m     15\u001b[0m \u001b[38;5;66;03m# response = requests.get(url)\u001b[39;00m\n\u001b[0;32m     16\u001b[0m \u001b[38;5;66;03m# im = Image.open(io.BytesIO(response.content))\u001b[39;00m\n\u001b[1;32m   (...)\u001b[0m\n\u001b[0;32m     24\u001b[0m \n\u001b[0;32m     25\u001b[0m \u001b[38;5;66;03m# Download the image\u001b[39;00m\n\u001b[0;32m     26\u001b[0m geemap\u001b[38;5;241m.\u001b[39mdownload_image(url, file_name, folder)\n",
      "File \u001b[1;32m~\\AppData\\Roaming\\Python\\Python39\\site-packages\\ee\\image.py:469\u001b[0m, in \u001b[0;36mImage.getDownloadURL\u001b[1;34m(self, params)\u001b[0m\n\u001b[0;32m    467\u001b[0m request \u001b[38;5;241m=\u001b[39m params \u001b[38;5;129;01mor\u001b[39;00m {}\n\u001b[0;32m    468\u001b[0m request[\u001b[38;5;124m'\u001b[39m\u001b[38;5;124mimage\u001b[39m\u001b[38;5;124m'\u001b[39m] \u001b[38;5;241m=\u001b[39m \u001b[38;5;28mself\u001b[39m\n\u001b[1;32m--> 469\u001b[0m \u001b[38;5;28;01mreturn\u001b[39;00m data\u001b[38;5;241m.\u001b[39mmakeDownloadUrl(\u001b[43mdata\u001b[49m\u001b[38;5;241;43m.\u001b[39;49m\u001b[43mgetDownloadId\u001b[49m\u001b[43m(\u001b[49m\u001b[43mrequest\u001b[49m\u001b[43m)\u001b[49m)\n",
      "File \u001b[1;32m~\\AppData\\Roaming\\Python\\Python39\\site-packages\\ee\\data.py:1019\u001b[0m, in \u001b[0;36mgetDownloadId\u001b[1;34m(params)\u001b[0m\n\u001b[0;32m   1014\u001b[0m queryParams \u001b[38;5;241m=\u001b[39m {\n\u001b[0;32m   1015\u001b[0m     \u001b[38;5;124m'\u001b[39m\u001b[38;5;124mfields\u001b[39m\u001b[38;5;124m'\u001b[39m: \u001b[38;5;124m'\u001b[39m\u001b[38;5;124mname\u001b[39m\u001b[38;5;124m'\u001b[39m,\n\u001b[0;32m   1016\u001b[0m     \u001b[38;5;124m'\u001b[39m\u001b[38;5;124mbody\u001b[39m\u001b[38;5;124m'\u001b[39m: request,\n\u001b[0;32m   1017\u001b[0m }\n\u001b[0;32m   1018\u001b[0m _maybe_populate_workload_tag(queryParams)\n\u001b[1;32m-> 1019\u001b[0m result \u001b[38;5;241m=\u001b[39m \u001b[43m_execute_cloud_call\u001b[49m\u001b[43m(\u001b[49m\n\u001b[0;32m   1020\u001b[0m \u001b[43m    \u001b[49m\u001b[43m_get_cloud_api_resource\u001b[49m\u001b[43m(\u001b[49m\u001b[43m)\u001b[49m\u001b[38;5;241;43m.\u001b[39;49m\u001b[43mprojects\u001b[49m\u001b[43m(\u001b[49m\u001b[43m)\u001b[49m\u001b[38;5;241;43m.\u001b[39;49m\u001b[43mthumbnails\u001b[49m\u001b[43m(\u001b[49m\u001b[43m)\u001b[49m\u001b[38;5;241;43m.\u001b[39;49m\u001b[43mcreate\u001b[49m\u001b[43m(\u001b[49m\n\u001b[0;32m   1021\u001b[0m \u001b[43m        \u001b[49m\u001b[43mparent\u001b[49m\u001b[38;5;241;43m=\u001b[39;49m\u001b[43m_get_projects_path\u001b[49m\u001b[43m(\u001b[49m\u001b[43m)\u001b[49m\u001b[43m,\u001b[49m\u001b[43m \u001b[49m\u001b[38;5;241;43m*\u001b[39;49m\u001b[38;5;241;43m*\u001b[39;49m\u001b[43mqueryParams\u001b[49m\u001b[43m)\u001b[49m\u001b[43m)\u001b[49m\n\u001b[0;32m   1022\u001b[0m \u001b[38;5;28;01mreturn\u001b[39;00m {\u001b[38;5;124m'\u001b[39m\u001b[38;5;124mdocid\u001b[39m\u001b[38;5;124m'\u001b[39m: result[\u001b[38;5;124m'\u001b[39m\u001b[38;5;124mname\u001b[39m\u001b[38;5;124m'\u001b[39m], \u001b[38;5;124m'\u001b[39m\u001b[38;5;124mtoken\u001b[39m\u001b[38;5;124m'\u001b[39m: \u001b[38;5;124m'\u001b[39m\u001b[38;5;124m'\u001b[39m}\n",
      "File \u001b[1;32m~\\AppData\\Roaming\\Python\\Python39\\site-packages\\ee\\data.py:328\u001b[0m, in \u001b[0;36m_execute_cloud_call\u001b[1;34m(call, num_retries)\u001b[0m\n\u001b[0;32m    326\u001b[0m   \u001b[38;5;28;01mreturn\u001b[39;00m call\u001b[38;5;241m.\u001b[39mexecute(num_retries\u001b[38;5;241m=\u001b[39mnum_retries)\n\u001b[0;32m    327\u001b[0m \u001b[38;5;28;01mexcept\u001b[39;00m googleapiclient\u001b[38;5;241m.\u001b[39merrors\u001b[38;5;241m.\u001b[39mHttpError \u001b[38;5;28;01mas\u001b[39;00m e:\n\u001b[1;32m--> 328\u001b[0m   \u001b[38;5;28;01mraise\u001b[39;00m _translate_cloud_exception(e)\n",
      "\u001b[1;31mEEException\u001b[0m: Pixel grid dimensions (257505x263880) must be less than or equal to 32768."
     ]
    }
   ],
   "source": [
    "from PIL import Image\n",
    "import io\n",
    "import requests\n",
    "\n",
    "\n",
    "# Define the file name and location to download the image\n",
    "file_name = 'image.jpg'\n",
    "folder = 'Neural Networks/'\n",
    "\n",
    "# Get the download URL for the image\n",
    "url = rgb_image.getDownloadURL({'scale': 15, 'crs': 'EPSG:3857'})\n",
    "\n",
    "\n",
    "# # Open the image from URL\n",
    "# response = requests.get(url)\n",
    "# im = Image.open(io.BytesIO(response.content))\n",
    "\n",
    "# # Resize the image\n",
    "# im = im.resize((500, 500))\n",
    "\n",
    "# # Save the resized image\n",
    "# im.save(folder + file_name)\n",
    "\n",
    "\n",
    "# Download the image\n",
    "geemap.download_image(url, file_name, folder)\n",
    "\n",
    "\n",
    "\n",
    "# bounds = gmap.draw_last_feature\n",
    "# roi = bounds.geometry()\n",
    "# # Define the time range\n",
    "# start_date = '2022-07-15'\n",
    "# end_date = '2022-10-30'\n",
    "# roi"
   ]
  },
  {
   "cell_type": "code",
   "execution_count": null,
   "id": "89f03540",
   "metadata": {},
   "outputs": [],
   "source": [
    "3218805"
   ]
  }
 ],
 "metadata": {
  "kernelspec": {
   "display_name": "Python 3 (ipykernel)",
   "language": "python",
   "name": "python3"
  },
  "language_info": {
   "codemirror_mode": {
    "name": "ipython",
    "version": 3
   },
   "file_extension": ".py",
   "mimetype": "text/x-python",
   "name": "python",
   "nbconvert_exporter": "python",
   "pygments_lexer": "ipython3",
   "version": "3.9.13"
  }
 },
 "nbformat": 4,
 "nbformat_minor": 5
}
